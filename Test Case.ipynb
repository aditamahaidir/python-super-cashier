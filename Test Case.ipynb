{
 "cells": [
  {
   "cell_type": "markdown",
   "id": "224329da",
   "metadata": {},
   "source": [
    "# TEST CASE - PYTHON PROJECT PACMANN - SUPER CASHIER - ADITAMA HAIDIR SIREGAR"
   ]
  },
  {
   "cell_type": "markdown",
   "id": "43390074",
   "metadata": {},
   "source": [
    "## Import Modul Cashier.py "
   ]
  },
  {
   "cell_type": "code",
   "execution_count": 11,
   "id": "9e34081a",
   "metadata": {},
   "outputs": [],
   "source": [
    "import Cashier as c"
   ]
  },
  {
   "cell_type": "markdown",
   "id": "88e50f42",
   "metadata": {},
   "source": [
    "## Membuat Obejct pada Class Transction() "
   ]
  },
  {
   "cell_type": "code",
   "execution_count": 12,
   "id": "33817bc2",
   "metadata": {},
   "outputs": [],
   "source": [
    "transaksi_1 = c.Transaction()"
   ]
  },
  {
   "cell_type": "markdown",
   "id": "02659246",
   "metadata": {},
   "source": [
    "## Mengecek Tampilan Awal Daftar Transaksi"
   ]
  },
  {
   "cell_type": "code",
   "execution_count": 13,
   "id": "5fac16d0",
   "metadata": {},
   "outputs": [
    {
     "name": "stdout",
     "output_type": "stream",
     "text": [
      "Daftar Semua Transaksi Belanja Barang Telah Dihapus\n"
     ]
    }
   ],
   "source": [
    "transaksi_1.check_data_item()"
   ]
  },
  {
   "cell_type": "markdown",
   "id": "6f923256",
   "metadata": {},
   "source": [
    "## Test 1 : Menambahkan Item Transaksi"
   ]
  },
  {
   "cell_type": "markdown",
   "id": "f619dd7c",
   "metadata": {},
   "source": [
    "Customer menambahkan item yang ingin dibeli ke dalam daftar transaksi belanja barang. Barang yang ditambahkan sebagai berikut:\n",
    "1. Nama Barang : Ayam Goreng | Jumlah Barang : 2 | Harga Satuan : Rp 20.000\n",
    "2. Nama Barang : Pasta Gigi  | Jumlah Barang : 3 | Harga Satuan : Rp 15.000"
   ]
  },
  {
   "cell_type": "markdown",
   "id": "6b9f4263",
   "metadata": {},
   "source": [
    "### Method yang digunakan adalah add_item() untuk menambahkan item dan check_data item untuk mengecek daftar transaksi belanja barang"
   ]
  },
  {
   "cell_type": "code",
   "execution_count": 14,
   "id": "6066f226",
   "metadata": {},
   "outputs": [
    {
     "name": "stdout",
     "output_type": "stream",
     "text": [
      "                   Daftar Transaksi Belanja Barang                    \n",
      "|    | Nama Barang   | Jumlah Barang   | Harga Satuan           | Total Harga   |\n",
      "|---:|:--------------|:----------------|:-----------------------|:--------------|\n",
      "|  0 | Ayam Goreng   | 2               | 20000                  | 40000         |\n",
      "|  1 | Pasta Gigi    | 3               | 15000                  | 45000         |\n",
      "|  2 |               |                 | Total Bayar            | Rp 85000      |\n",
      "|  3 |               |                 | Diskon Yang Diperoleh  | 0 %           |\n",
      "|  4 |               |                 | Total Akhir Pembayaran | Rp 85000      |\n"
     ]
    }
   ],
   "source": [
    "transaksi_1.add_item('Ayam Goreng', 2, 20000)\n",
    "transaksi_1.add_item('Pasta Gigi', 3, 15000)\n",
    "transaksi_1.check_data_item()"
   ]
  },
  {
   "cell_type": "markdown",
   "id": "bd2ae10a",
   "metadata": {},
   "source": [
    "## Test 2 : Menghapus Salah Satu Item pada Daftar Transaksi "
   ]
  },
  {
   "cell_type": "markdown",
   "id": "4b314ac4",
   "metadata": {},
   "source": [
    "Customer ingin menghapus salah item dalam daftar transaksi belanja yaitu Pasta Gigi "
   ]
  },
  {
   "cell_type": "markdown",
   "id": "682027e2",
   "metadata": {},
   "source": [
    "### Method yang digunakan adalah delete_item() untuk menghapus item dan check_data item untuk mengecek daftar transaksi belanja barang"
   ]
  },
  {
   "cell_type": "code",
   "execution_count": 15,
   "id": "2ff6397e",
   "metadata": {},
   "outputs": [
    {
     "name": "stdout",
     "output_type": "stream",
     "text": [
      "                   Daftar Transaksi Belanja Barang                    \n",
      "|    | Nama Barang   | Jumlah Barang   | Harga Satuan           | Total Harga   |\n",
      "|---:|:--------------|:----------------|:-----------------------|:--------------|\n",
      "|  0 | Ayam Goreng   | 2               | 20000                  | 40000         |\n",
      "|  1 |               |                 | Total Bayar            | Rp 40000      |\n",
      "|  2 |               |                 | Diskon Yang Diperoleh  | 0 %           |\n",
      "|  3 |               |                 | Total Akhir Pembayaran | Rp 40000      |\n"
     ]
    }
   ],
   "source": [
    "transaksi_1.delete_item('Pasta Gigi')\n",
    "transaksi_1.check_data_item()"
   ]
  },
  {
   "cell_type": "markdown",
   "id": "783f0bc3",
   "metadata": {},
   "source": [
    "## Test 3 : Menghapus Semua Item pada Daftar Transaksi "
   ]
  },
  {
   "cell_type": "markdown",
   "id": "f154781b",
   "metadata": {},
   "source": [
    "### Method yang digunakan adalah reset_transaction() untuk mereset transaksi item dan check_data item untuk mengecek daftar transaksi belanja barang"
   ]
  },
  {
   "cell_type": "code",
   "execution_count": 16,
   "id": "080028b5",
   "metadata": {},
   "outputs": [
    {
     "name": "stdout",
     "output_type": "stream",
     "text": [
      "Daftar Semua Transaksi Belanja Barang Telah Dihapus\n"
     ]
    }
   ],
   "source": [
    "transaksi_1.reset_transaction()\n",
    "transaksi_1.check_data_item()"
   ]
  },
  {
   "cell_type": "markdown",
   "id": "d9b330da",
   "metadata": {},
   "source": [
    "## Test 4 : Menambahkan Kembali Item ke Daftar Transaksi"
   ]
  },
  {
   "cell_type": "markdown",
   "id": "5216967a",
   "metadata": {},
   "source": [
    "Customer menambahkan kembali item yang ingin dibeli ke dalam daftar transaksi belanja barang. Barang yang ditambahkan sebagai berikut:\n",
    "1. Nama Barang : Sikat Gigi      | Jumlah Barang : 4  | Harga Satuan : Rp 15.000\n",
    "2. Nama Barang : Oreo Blackpink  | Jumlah Barang : 5  | Harga Satuan : Rp 22.000\n",
    "3. Nama Barang : Indomie         | Jumlah Barang : 15 | Harga Satuan : Rp 3.250\n",
    "4. Nama Barang : Sosis           | Jumlah Barang : 4  | Harga Satuan : Rp 8.900"
   ]
  },
  {
   "cell_type": "code",
   "execution_count": 17,
   "id": "8f27651e",
   "metadata": {},
   "outputs": [],
   "source": [
    "transaksi_1.add_item('Sikat Gigi', 4, 15000)\n",
    "transaksi_1.add_item('Oreo Blackpink', 5, 22000)\n",
    "transaksi_1.add_item('Indomie', 15, 3250)\n",
    "transaksi_1.add_item('Sosis', 4, 8900)"
   ]
  },
  {
   "cell_type": "code",
   "execution_count": 18,
   "id": "0d62b783",
   "metadata": {},
   "outputs": [
    {
     "name": "stdout",
     "output_type": "stream",
     "text": [
      "                   Daftar Transaksi Belanja Barang                    \n",
      "|    | Nama Barang    | Jumlah Barang   | Harga Satuan           | Total Harga   |\n",
      "|---:|:---------------|:----------------|:-----------------------|:--------------|\n",
      "|  0 | Indomie        | 15              | 3250                   | 48750         |\n",
      "|  1 | Oreo Blackpink | 5               | 22000                  | 110000        |\n",
      "|  2 | Sikat Gigi     | 4               | 15000                  | 60000         |\n",
      "|  3 | Sosis          | 4               | 8900                   | 35600         |\n",
      "|  4 |                |                 | Total Bayar            | Rp 254350     |\n",
      "|  5 |                |                 | Diskon Yang Diperoleh  | 5.0 %         |\n",
      "|  6 |                |                 | Total Akhir Pembayaran | Rp 241632.5   |\n"
     ]
    }
   ],
   "source": [
    "transaksi_1.check_data_item()"
   ]
  },
  {
   "cell_type": "markdown",
   "id": "7b20652d",
   "metadata": {},
   "source": [
    "Ternyata Customer mendapatkan diskon belanja sebesar 5% karena total bayar Customer lebih dari Rp 250.000 sehingga Customer cukup melakukan pembayaran sebesar Rp 241.632,5 "
   ]
  },
  {
   "cell_type": "markdown",
   "id": "1b315b7d",
   "metadata": {},
   "source": [
    "## Test 5 : Memperbarui Daftar Transaksi"
   ]
  },
  {
   "cell_type": "markdown",
   "id": "f58dc171",
   "metadata": {},
   "source": [
    "### Method yang digunakan adalah update_name_item() hanya untuk mengubah nama barang dan check_data item untuk mengecek daftar transaksi belanja barang"
   ]
  },
  {
   "cell_type": "code",
   "execution_count": 14,
   "id": "b7668e7d",
   "metadata": {},
   "outputs": [
    {
     "name": "stdout",
     "output_type": "stream",
     "text": [
      "                   Daftar Transaksi Belanja Barang                    \n",
      "|    | Nama Barang    | Jumlah Barang   | Harga Satuan           | Total Harga   |\n",
      "|---:|:---------------|:----------------|:-----------------------|:--------------|\n",
      "|  0 | Indomie        | 15              | 3250                   | 48750         |\n",
      "|  1 | Oreo Blackpink | 5               | 22000                  | 110000        |\n",
      "|  2 | Pasta Gigi     | 4               | 15000                  | 60000         |\n",
      "|  3 | Sosis          | 4               | 8900                   | 35600         |\n",
      "|  4 |                |                 | Total Bayar            | Rp 254350     |\n",
      "|  5 |                |                 | Diskon Yang Diperoleh  | 5.0 %         |\n",
      "|  6 |                |                 | Total Akhir Pembayaran | Rp 241632.5   |\n"
     ]
    }
   ],
   "source": [
    "transaksi_1.update_name_item('Sikat Gigi', 'Pasta Gigi')\n",
    "transaksi_1.check_data_item()"
   ]
  },
  {
   "cell_type": "markdown",
   "id": "c2e2c0ed",
   "metadata": {},
   "source": [
    "### Method yang digunakan adalah update_price_item() hanya untuk mengubah harga barang dan check_data item untuk mengecek daftar transaksi belanja barang"
   ]
  },
  {
   "cell_type": "code",
   "execution_count": 16,
   "id": "747a5e7b",
   "metadata": {},
   "outputs": [
    {
     "name": "stdout",
     "output_type": "stream",
     "text": [
      "                   Daftar Transaksi Belanja Barang                    \n",
      "|    | Nama Barang    | Jumlah Barang   | Harga Satuan           | Total Harga   |\n",
      "|---:|:---------------|:----------------|:-----------------------|:--------------|\n",
      "|  0 | Indomie        | 15              | 3150                   | 47250         |\n",
      "|  1 | Oreo Blackpink | 5               | 22000                  | 110000        |\n",
      "|  2 | Pasta Gigi     | 4               | 15000                  | 60000         |\n",
      "|  3 | Sosis          | 4               | 8900                   | 35600         |\n",
      "|  4 |                |                 | Total Bayar            | Rp 252850     |\n",
      "|  5 |                |                 | Diskon Yang Diperoleh  | 5.0 %         |\n",
      "|  6 |                |                 | Total Akhir Pembayaran | Rp 240207.5   |\n"
     ]
    }
   ],
   "source": [
    "transaksi_1.update_price_item('Indomie', 3150)\n",
    "transaksi_1.check_data_item()"
   ]
  },
  {
   "cell_type": "markdown",
   "id": "3537768b",
   "metadata": {},
   "source": [
    "### Method yang digunakan adalah update_amount_item() hanya untuk mengubah jumlah barang dan check_data item untuk mengecek daftar transaksi belanja barang"
   ]
  },
  {
   "cell_type": "code",
   "execution_count": 17,
   "id": "d56e993a",
   "metadata": {},
   "outputs": [
    {
     "name": "stdout",
     "output_type": "stream",
     "text": [
      "                   Daftar Transaksi Belanja Barang                    \n",
      "|    | Nama Barang    | Jumlah Barang   | Harga Satuan           | Total Harga   |\n",
      "|---:|:---------------|:----------------|:-----------------------|:--------------|\n",
      "|  0 | Indomie        | 15              | 3150                   | 47250         |\n",
      "|  1 | Oreo Blackpink | 5               | 22000                  | 110000        |\n",
      "|  2 | Pasta Gigi     | 4               | 15000                  | 60000         |\n",
      "|  3 | Sosis          | 6               | 8900                   | 53400         |\n",
      "|  4 |                |                 | Total Bayar            | Rp 270650     |\n",
      "|  5 |                |                 | Diskon Yang Diperoleh  | 5.0 %         |\n",
      "|  6 |                |                 | Total Akhir Pembayaran | Rp 257117.5   |\n"
     ]
    }
   ],
   "source": [
    "transaksi_1.update_amount_item('Sosis', 6)\n",
    "transaksi_1.check_data_item()"
   ]
  },
  {
   "cell_type": "markdown",
   "id": "1de34b1a",
   "metadata": {},
   "source": [
    "## Test 6 : Menampilkan Kesalahan Input dalam Transaksi"
   ]
  },
  {
   "cell_type": "code",
   "execution_count": 19,
   "id": "67b84d41",
   "metadata": {},
   "outputs": [
    {
     "name": "stdout",
     "output_type": "stream",
     "text": [
      "Nama barang 'Indomi' tidak ditemukan dalam data transaksi.\n"
     ]
    }
   ],
   "source": [
    "transaksi_1.update_price_item('Indomi', 3050)"
   ]
  },
  {
   "cell_type": "code",
   "execution_count": 20,
   "id": "4736c7f5",
   "metadata": {},
   "outputs": [
    {
     "name": "stdout",
     "output_type": "stream",
     "text": [
      "Kesalahan Input Jumlah Barang Terbaru: 6.5 harus berupa angka bilangan bulat/integer.\n"
     ]
    }
   ],
   "source": [
    "transaksi_1.update_amount_item('Sosis', 6.5)"
   ]
  },
  {
   "cell_type": "code",
   "execution_count": 21,
   "id": "0c346139",
   "metadata": {},
   "outputs": [
    {
     "name": "stdout",
     "output_type": "stream",
     "text": [
      "Barang yang bernama 'Sikat' tidak ada di daftar transaksi.\n"
     ]
    }
   ],
   "source": [
    "transaksi_1.update_name_item('Sikat', 'Odol')"
   ]
  },
  {
   "cell_type": "code",
   "execution_count": 22,
   "id": "5390cee8",
   "metadata": {},
   "outputs": [
    {
     "name": "stdout",
     "output_type": "stream",
     "text": [
      "                   Daftar Transaksi Belanja Barang                    \n",
      "|    | Nama Barang    | Jumlah Barang   | Harga Satuan           | Total Harga   |\n",
      "|---:|:---------------|:----------------|:-----------------------|:--------------|\n",
      "|  0 | Indomie        | 15              | 3150                   | 47250         |\n",
      "|  1 | Oreo Blackpink | 5               | 22000                  | 110000        |\n",
      "|  2 | Pasta Gigi     | 4               | 15000                  | 60000         |\n",
      "|  3 | Sosis          | 6               | 8900                   | 53400         |\n",
      "|  4 |                |                 | Total Bayar            | Rp 270650     |\n",
      "|  5 |                |                 | Diskon Yang Diperoleh  | 5.0 %         |\n",
      "|  6 |                |                 | Total Akhir Pembayaran | Rp 257117.5   |\n"
     ]
    }
   ],
   "source": [
    "transaksi_1.check_data_item()"
   ]
  }
 ],
 "metadata": {
  "kernelspec": {
   "display_name": "Python 3 (ipykernel)",
   "language": "python",
   "name": "python3"
  },
  "language_info": {
   "codemirror_mode": {
    "name": "ipython",
    "version": 3
   },
   "file_extension": ".py",
   "mimetype": "text/x-python",
   "name": "python",
   "nbconvert_exporter": "python",
   "pygments_lexer": "ipython3",
   "version": "3.9.13"
  }
 },
 "nbformat": 4,
 "nbformat_minor": 5
}
